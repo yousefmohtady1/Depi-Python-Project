{
 "cells": [
  {
   "cell_type": "code",
   "execution_count": null,
   "id": "fe9e20a7-c2b5-4bb9-8cb0-099f0e198074",
   "metadata": {},
   "outputs": [],
   "source": [
    "import csv\n",
    "\n",
    "class EmployeeManager:\n",
    "    def __init__(self):\n",
    "        self.employees = {}\n",
    "        self.LoadData()\n",
    "\n",
    "    def LoadData(self):\n",
    "        try:\n",
    "            with open('Employees.csv', mode='r', newline='') as file\n",
    "            reader = csv.DictReader(file)\n",
    "            for row in reader:\n",
    "                self.employees[row['id']] = row\n",
    "        except FileNotFound:\n",
    "\n",
    "    def SaveData(self):\n",
    "        with open('employees.csv', mode='w', newline='') as file\n",
    "        fieldName =['Id', 'Name', 'Position', 'Salary', 'Email']\n",
    "        writer = csv.DictWriter(file, fieldName = fieldName)\n",
    "        writer.writeheader()\n",
    "        writer.writerows(self.employees.values())\n",
    "        \n",
    "    def AddEmployee(self, empId, name, position, salary, email):\n",
    "        self.employees[empId] = {\n",
    "            'Id' : empId,\n",
    "            'Name' : name,\n",
    "            'Position' : position,\n",
    "            'Salary' : salary,\n",
    "            'Email' : email\n",
    "        }\n",
    "        self.SaveData()\n",
    "\n",
    "    def UpdateEmployee(self):\n",
    "        pass\n",
    "\n",
    "    def DeleteEmployee(self):\n",
    "        pass\n",
    "\n",
    "    def SearchEmployee(self):\n",
    "        pass\n",
    "\n",
    "    def ListEmployee(self):\n",
    "        pass\n",
    "\n",
    "    def ExitEmployee(self):\n",
    "        pass"
   ]
  }
 ],
 "metadata": {
  "kernelspec": {
   "display_name": "Python 3 (ipykernel)",
   "language": "python",
   "name": "python3"
  },
  "language_info": {
   "codemirror_mode": {
    "name": "ipython",
    "version": 3
   },
   "file_extension": ".py",
   "mimetype": "text/x-python",
   "name": "python",
   "nbconvert_exporter": "python",
   "pygments_lexer": "ipython3",
   "version": "3.13.5"
  }
 },
 "nbformat": 4,
 "nbformat_minor": 5
}

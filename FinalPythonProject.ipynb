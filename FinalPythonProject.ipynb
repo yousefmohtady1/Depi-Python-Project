{
 "cells": [
  {
   "cell_type": "code",
   "execution_count": null,
   "id": "fe9e20a7-c2b5-4bb9-8cb0-099f0e198074",
   "metadata": {},
   "outputs": [],
   "source": [
    "class EmployeeManager:\n",
    "    def __init__(self):\n",
    "        pass\n",
    "\n",
    "    def AddEmployee(self):\n",
    "        pass\n",
    "\n",
    "    def UpdateEmployee(self):\n",
    "        pass\n",
    "\n",
    "    def DeleteEmployee(self):\n",
    "        pass\n",
    "\n",
    "    def SearchEmployee(self):\n",
    "        pass\n",
    "\n",
    "    def ListEmployee(self):\n",
    "        pass\n",
    "\n",
    "    def ExitEmployee(self):\n",
    "        pass"
   ]
  }
 ],
 "metadata": {
  "kernelspec": {
   "display_name": "Python 3 (ipykernel)",
   "language": "python",
   "name": "python3"
  },
  "language_info": {
   "codemirror_mode": {
    "name": "ipython",
    "version": 3
   },
   "file_extension": ".py",
   "mimetype": "text/x-python",
   "name": "python",
   "nbconvert_exporter": "python",
   "pygments_lexer": "ipython3",
   "version": "3.13.5"
  }
 },
 "nbformat": 4,
 "nbformat_minor": 5
}

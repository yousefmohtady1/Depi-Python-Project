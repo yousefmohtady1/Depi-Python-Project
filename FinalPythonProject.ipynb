{
 "cells": [
  {
   "cell_type": "code",
   "execution_count": 1,
   "id": "fe9e20a7-c2b5-4bb9-8cb0-099f0e198074",
   "metadata": {},
   "outputs": [
    {
     "name": "stdout",
     "output_type": "stream",
     "text": [
      "\n",
      "Employees Management System\n",
      "1- View all employees\n",
      "2- Add employee\n",
      "3- Update employee\n",
      "4- Delete employee\n",
      "5- Search employee\n",
      "6- Exit\n"
     ]
    },
    {
     "name": "stdin",
     "output_type": "stream",
     "text": [
      "Enter your choice 1\n"
     ]
    },
    {
     "name": "stdout",
     "output_type": "stream",
     "text": [
      "\n",
      "ID         Name                 Position                  Salary          Email                         \n",
      "----------------------------------------------------------------------------------------------------\n",
      "\n",
      "101        Yousef               software engineer         15000           yosefmohtady@gmail.com        \n",
      "\n",
      "102        Mohamed              graphic designer          11000           mohamed@gmail.com             \n",
      "\n",
      "Employees Management System\n",
      "1- View all employees\n",
      "2- Add employee\n",
      "3- Update employee\n",
      "4- Delete employee\n",
      "5- Search employee\n",
      "6- Exit\n"
     ]
    },
    {
     "name": "stdin",
     "output_type": "stream",
     "text": [
      "Enter your choice 2\n",
      "Enter employee ID 103\n",
      "Enter employee name Ahmed\n",
      "Enter employee position media buyer\n",
      "Enter employee salary 20000\n",
      "Enter employee Email ahmed@gmail.com\n"
     ]
    },
    {
     "name": "stdout",
     "output_type": "stream",
     "text": [
      "Employee added\n",
      "\n",
      "Employees Management System\n",
      "1- View all employees\n",
      "2- Add employee\n",
      "3- Update employee\n",
      "4- Delete employee\n",
      "5- Search employee\n",
      "6- Exit\n"
     ]
    },
    {
     "name": "stdin",
     "output_type": "stream",
     "text": [
      "Enter your choice 2\n",
      "Enter employee ID 103\n",
      "Enter employee name khaled\n",
      "Enter employee position videographer\n",
      "Enter employee salary 13000\n",
      "Enter employee Email khaled@hotmail.com\n"
     ]
    },
    {
     "name": "stdout",
     "output_type": "stream",
     "text": [
      "Employee with Id 103 already exist\n",
      "Employee added\n",
      "\n",
      "Employees Management System\n",
      "1- View all employees\n",
      "2- Add employee\n",
      "3- Update employee\n",
      "4- Delete employee\n",
      "5- Search employee\n",
      "6- Exit\n"
     ]
    },
    {
     "name": "stdin",
     "output_type": "stream",
     "text": [
      "Enter your choice 2\n",
      "Enter employee ID 104\n",
      "Enter employee name Khaled\n",
      "Enter employee position videographer\n",
      "Enter employee salary 13000\n",
      "Enter employee Email khaled@hotmail.com\n"
     ]
    },
    {
     "name": "stdout",
     "output_type": "stream",
     "text": [
      "Employee added\n",
      "\n",
      "Employees Management System\n",
      "1- View all employees\n",
      "2- Add employee\n",
      "3- Update employee\n",
      "4- Delete employee\n",
      "5- Search employee\n",
      "6- Exit\n"
     ]
    },
    {
     "name": "stdin",
     "output_type": "stream",
     "text": [
      "Enter your choice 1\n"
     ]
    },
    {
     "name": "stdout",
     "output_type": "stream",
     "text": [
      "\n",
      "ID         Name                 Position                  Salary          Email                         \n",
      "----------------------------------------------------------------------------------------------------\n",
      "\n",
      "101        Yousef               software engineer         15000           yosefmohtady@gmail.com        \n",
      "\n",
      "102        Mohamed              graphic designer          11000           mohamed@gmail.com             \n",
      "\n",
      "103        Ahmed                media buyer               20000           ahmed@gmail.com               \n",
      "\n",
      "104        Khaled               videographer              13000           khaled@hotmail.com            \n",
      "\n",
      "Employees Management System\n",
      "1- View all employees\n",
      "2- Add employee\n",
      "3- Update employee\n",
      "4- Delete employee\n",
      "5- Search employee\n",
      "6- Exit\n"
     ]
    },
    {
     "name": "stdin",
     "output_type": "stream",
     "text": [
      "Enter your choice 3\n",
      "Enter employee ID to update 104\n",
      "Enter employee name to update Khaled\n",
      "Enter employee position to update videographer\n",
      "Enter employee salary to update 17000\n",
      "Enter employee Email to update khaled@gmail.com\n"
     ]
    },
    {
     "name": "stdout",
     "output_type": "stream",
     "text": [
      "Employee updated\n",
      "\n",
      "Employees Management System\n",
      "1- View all employees\n",
      "2- Add employee\n",
      "3- Update employee\n",
      "4- Delete employee\n",
      "5- Search employee\n",
      "6- Exit\n"
     ]
    },
    {
     "name": "stdin",
     "output_type": "stream",
     "text": [
      "Enter your choice 3\n",
      "Enter employee ID to update 101\n",
      "Enter employee name to update Yousef\n",
      "Enter employee position to update software engineer\n",
      "Enter employee salary to update 25000\n",
      "Enter employee Email to update yousef@gmail.com\n"
     ]
    },
    {
     "name": "stdout",
     "output_type": "stream",
     "text": [
      "Employee updated\n",
      "\n",
      "Employees Management System\n",
      "1- View all employees\n",
      "2- Add employee\n",
      "3- Update employee\n",
      "4- Delete employee\n",
      "5- Search employee\n",
      "6- Exit\n"
     ]
    },
    {
     "name": "stdin",
     "output_type": "stream",
     "text": [
      "Enter your choice 1\n"
     ]
    },
    {
     "name": "stdout",
     "output_type": "stream",
     "text": [
      "\n",
      "ID         Name                 Position                  Salary          Email                         \n",
      "----------------------------------------------------------------------------------------------------\n",
      "\n",
      "101        Yousef               software engineer         25000           yousef@gmail.com              \n",
      "\n",
      "102        Mohamed              graphic designer          11000           mohamed@gmail.com             \n",
      "\n",
      "103        Ahmed                media buyer               20000           ahmed@gmail.com               \n",
      "\n",
      "104        Khaled               videographer              17000           khaled@gmail.com              \n",
      "\n",
      "Employees Management System\n",
      "1- View all employees\n",
      "2- Add employee\n",
      "3- Update employee\n",
      "4- Delete employee\n",
      "5- Search employee\n",
      "6- Exit\n"
     ]
    },
    {
     "name": "stdin",
     "output_type": "stream",
     "text": [
      "Enter your choice 6\n"
     ]
    },
    {
     "name": "stdout",
     "output_type": "stream",
     "text": [
      "Good Bye\n"
     ]
    }
   ],
   "source": [
    "import csv\n",
    "\n",
    "class EmployeeManager:\n",
    "    def __init__(self):\n",
    "        self.employees = {}\n",
    "        self.FileName = 'employees.csv'\n",
    "        self.LoadData()\n",
    "\n",
    "    def LoadData(self):\n",
    "        try:\n",
    "            with open(self.FileName, mode='r', newline='') as file:\n",
    "                reader = csv.DictReader(file)\n",
    "                for row in reader:\n",
    "                    self.employees[row['Id']] = row\n",
    "        except FileNotFoundError:\n",
    "            pass\n",
    "\n",
    "    def SaveData(self):\n",
    "        with open(self.FileName, mode='w', newline='') as file:\n",
    "            fieldName =['Id', 'Name', 'Position', 'Salary', 'Email']\n",
    "            writer = csv.DictWriter(file, fieldnames = fieldName)\n",
    "            writer.writeheader()\n",
    "            writer.writerows(self.employees.values())\n",
    "        \n",
    "    def AddEmployee(self, empId, name, position, salary, email):\n",
    "        if empId in self.employees:\n",
    "            print(f\"Employee with Id {empId} already exist\")\n",
    "            return\n",
    "\n",
    "        if not  salary.isdigit():\n",
    "            print(\"Invalid salary. Salary must be a numeric\")\n",
    "            return\n",
    "            \n",
    "        self.employees[empId] = {\n",
    "            'Id' : empId,\n",
    "            'Name' : name,\n",
    "            'Position' : position,\n",
    "            'Salary' : salary,\n",
    "            'Email' : email\n",
    "        }\n",
    "        self.SaveData()\n",
    "\n",
    "    def UpdateEmployee(self, empId, name=None, position=None, salary=None, email=None):\n",
    "        if empId in self.employees:\n",
    "            if name:\n",
    "                self.employees[empId]['Name'] = name\n",
    "            if position:\n",
    "                self.employees[empId]['Position'] = position\n",
    "            if salary:\n",
    "                if not  salary.isdigit():\n",
    "                    print(\"Invalid salary. Salary must be a numeric\")\n",
    "                    return\n",
    "                self.employees[empId]['Salary'] = salary\n",
    "            if email:\n",
    "                self.employees[empId]['Email'] = email\n",
    "            self.SaveData()\n",
    "\n",
    "    def DeleteEmployee(self, empId):\n",
    "        if empId in self.employees:\n",
    "            del self.employees[empId]\n",
    "            self.SaveData()\n",
    "\n",
    "    def SearchEmployee(self, empId):\n",
    "        if empId in self.employees:\n",
    "            return self.employees[empId]\n",
    "\n",
    "    def ListEmployee(self):\n",
    "        if not self.employees:\n",
    "            print(\"No employees records found\")\n",
    "            return\n",
    "\n",
    "        print(\"\\n{:<10} {:<20} {:<25} {:<15} {:<30}\".format(\"ID\", \"Name\", \"Position\", \"Salary\", \"Email\"))\n",
    "        print(\"-\" * 100)\n",
    "        for emp in self.employees.values():\n",
    "            print(\"\\n{:<10} {:<20} {:<25} {:<15} {:<30}\".format(emp[\"Id\"], emp[\"Name\"], emp[\"Position\"], emp[\"Salary\"], emp[\"Email\"]))\n",
    "\n",
    "    def ExitEmployee(self):\n",
    "        print(\"Good Bye\")\n",
    "        exit()\n",
    "\n",
    "manage = EmployeeManager()\n",
    "\n",
    "while True:\n",
    "    print(\"\\nEmployees Management System\")\n",
    "    print(\"1- View all employees\")\n",
    "    print(\"2- Add employee\")\n",
    "    print(\"3- Update employee\")\n",
    "    print(\"4- Delete employee\")\n",
    "    print(\"5- Search employee\")\n",
    "    print(\"6- Exit\")\n",
    "\n",
    "    choice = input(\"Enter your choice\")\n",
    "\n",
    "    if choice == '1':\n",
    "        manage.ListEmployee()\n",
    "\n",
    "    elif choice == '2':\n",
    "        empId = input(\"Enter employee ID\")\n",
    "        name = input(\"Enter employee name\")\n",
    "        position = input(\"Enter employee position\")\n",
    "        salary = input(\"Enter employee salary\")\n",
    "        email = input(\"Enter employee Email\")\n",
    "        manage.AddEmployee(empId, name, position, salary, email)\n",
    "        print(\"Employee added\")\n",
    "\n",
    "    elif choice == '3':\n",
    "        empId = input(\"Enter employee ID to update\")\n",
    "        name = input(\"Enter employee name to update\")\n",
    "        position = input(\"Enter employee position to update\")\n",
    "        salary = input(\"Enter employee salary to update\")\n",
    "        email = input(\"Enter employee Email to update\")\n",
    "        manage.UpdateEmployee(empId, name, position, salary, email)\n",
    "        print(\"Employee updated\")\n",
    "\n",
    "    elif choice == '4':\n",
    "        empId = input(\"Enter employee ID to delete\")\n",
    "        manage.DeleteEmployee(empId)\n",
    "        print(\"Employee deleted\")\n",
    "\n",
    "    elif choice == '5':\n",
    "        empId = input(\"Enter employee ID\")\n",
    "        employee = manage.SearchEmployee(empId)\n",
    "        if employee:\n",
    "            print(employee)\n",
    "        else:\n",
    "            print(\"Employee is not found\")\n",
    "\n",
    "    elif choice == '6':\n",
    "        manage.ExitEmployee()\n",
    "        break\n",
    "\n",
    "    else:\n",
    "        print(\"Invalid choice. Try again\")"
   ]
  }
 ],
 "metadata": {
  "kernelspec": {
   "display_name": "Python 3 (ipykernel)",
   "language": "python",
   "name": "python3"
  },
  "language_info": {
   "codemirror_mode": {
    "name": "ipython",
    "version": 3
   },
   "file_extension": ".py",
   "mimetype": "text/x-python",
   "name": "python",
   "nbconvert_exporter": "python",
   "pygments_lexer": "ipython3",
   "version": "3.13.5"
  }
 },
 "nbformat": 4,
 "nbformat_minor": 5
}

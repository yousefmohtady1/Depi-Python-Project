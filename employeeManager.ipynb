{
 "cells": [
  {
   "cell_type": "code",
   "execution_count": 4,
   "id": "fe9e20a7-c2b5-4bb9-8cb0-099f0e198074",
   "metadata": {},
   "outputs": [
    {
     "name": "stdout",
     "output_type": "stream",
     "text": [
      "\n",
      "Employees Management System\n",
      "1- View all employees\n",
      "2- Add employee\n",
      "3- Update employee\n",
      "4- Delete employee\n",
      "5- Search employee\n",
      "6- Exit\n"
     ]
    },
    {
     "name": "stdin",
     "output_type": "stream",
     "text": [
      "Enter your choice 1\n"
     ]
    },
    {
     "name": "stdout",
     "output_type": "stream",
     "text": [
      "\n",
      "ID         Name                 Position                  Salary          Email                         \n",
      "----------------------------------------------------------------------------------------------------\n",
      "\n",
      "101        Yousef               software engineer         25000           yousef@gmail.com              \n",
      "\n",
      "102        Mohamed              graphic designer          11000           mohamed@gmail.com             \n",
      "\n",
      "103        Ahmed                media buyer               20000           ahmed@gmail.com               \n",
      "\n",
      "104        Khaled               videographer              17000           khaled@gmail.com              \n",
      "\n",
      "105        Mostafa              AI engineer               30000           mostafa@gmail.com             \n",
      "\n",
      "Employees Management System\n",
      "1- View all employees\n",
      "2- Add employee\n",
      "3- Update employee\n",
      "4- Delete employee\n",
      "5- Search employee\n",
      "6- Exit\n"
     ]
    },
    {
     "name": "stdin",
     "output_type": "stream",
     "text": [
      "Enter your choice 2\n",
      "Enter employee ID 106\n",
      "Enter employee name Ayman\n",
      "Enter employee position content creator\n",
      "Enter employee salary 12000\n",
      "Enter employee Email ayman@gmail.com\n"
     ]
    },
    {
     "name": "stdout",
     "output_type": "stream",
     "text": [
      "Employee added\n",
      "\n",
      "Employees Management System\n",
      "1- View all employees\n",
      "2- Add employee\n",
      "3- Update employee\n",
      "4- Delete employee\n",
      "5- Search employee\n",
      "6- Exit\n"
     ]
    },
    {
     "name": "stdin",
     "output_type": "stream",
     "text": [
      "Enter your choice 1\n"
     ]
    },
    {
     "name": "stdout",
     "output_type": "stream",
     "text": [
      "\n",
      "ID         Name                 Position                  Salary          Email                         \n",
      "----------------------------------------------------------------------------------------------------\n",
      "\n",
      "101        Yousef               software engineer         25000           yousef@gmail.com              \n",
      "\n",
      "102        Mohamed              graphic designer          11000           mohamed@gmail.com             \n",
      "\n",
      "103        Ahmed                media buyer               20000           ahmed@gmail.com               \n",
      "\n",
      "104        Khaled               videographer              17000           khaled@gmail.com              \n",
      "\n",
      "105        Mostafa              AI engineer               30000           mostafa@gmail.com             \n",
      "\n",
      "106        Ayman                content creator           12000           ayman@gmail.com               \n",
      "\n",
      "Employees Management System\n",
      "1- View all employees\n",
      "2- Add employee\n",
      "3- Update employee\n",
      "4- Delete employee\n",
      "5- Search employee\n",
      "6- Exit\n"
     ]
    },
    {
     "name": "stdin",
     "output_type": "stream",
     "text": [
      "Enter your choice 3\n",
      "Enter employee ID to update 106\n",
      "Enter employee name to update Ayman\n",
      "Enter employee position to update content creator\n",
      "Enter employee salary to update 14000\n",
      "Enter employee Email to update ayman@gmail.com\n"
     ]
    },
    {
     "name": "stdout",
     "output_type": "stream",
     "text": [
      "Employee updated\n",
      "\n",
      "Employees Management System\n",
      "1- View all employees\n",
      "2- Add employee\n",
      "3- Update employee\n",
      "4- Delete employee\n",
      "5- Search employee\n",
      "6- Exit\n"
     ]
    },
    {
     "name": "stdin",
     "output_type": "stream",
     "text": [
      "Enter your choice 1\n"
     ]
    },
    {
     "name": "stdout",
     "output_type": "stream",
     "text": [
      "\n",
      "ID         Name                 Position                  Salary          Email                         \n",
      "----------------------------------------------------------------------------------------------------\n",
      "\n",
      "101        Yousef               software engineer         25000           yousef@gmail.com              \n",
      "\n",
      "102        Mohamed              graphic designer          11000           mohamed@gmail.com             \n",
      "\n",
      "103        Ahmed                media buyer               20000           ahmed@gmail.com               \n",
      "\n",
      "104        Khaled               videographer              17000           khaled@gmail.com              \n",
      "\n",
      "105        Mostafa              AI engineer               30000           mostafa@gmail.com             \n",
      "\n",
      "106        Ayman                content creator           14000           ayman@gmail.com               \n",
      "\n",
      "Employees Management System\n",
      "1- View all employees\n",
      "2- Add employee\n",
      "3- Update employee\n",
      "4- Delete employee\n",
      "5- Search employee\n",
      "6- Exit\n"
     ]
    },
    {
     "name": "stdin",
     "output_type": "stream",
     "text": [
      "Enter your choice 5\n",
      "Enter employee ID 106\n"
     ]
    },
    {
     "name": "stdout",
     "output_type": "stream",
     "text": [
      "\n",
      "ID         Name                 Position                  Salary          Email                         \n",
      "----------------------------------------------------------------------------------------------------\n",
      "\n",
      "106        Ayman                content creator           14000           ayman@gmail.com               \n",
      "\n",
      "Employees Management System\n",
      "1- View all employees\n",
      "2- Add employee\n",
      "3- Update employee\n",
      "4- Delete employee\n",
      "5- Search employee\n",
      "6- Exit\n"
     ]
    },
    {
     "name": "stdin",
     "output_type": "stream",
     "text": [
      "Enter your choice 4\n",
      "Enter employee ID to delete 106\n"
     ]
    },
    {
     "name": "stdout",
     "output_type": "stream",
     "text": [
      "Employee deleted\n",
      "\n",
      "Employees Management System\n",
      "1- View all employees\n",
      "2- Add employee\n",
      "3- Update employee\n",
      "4- Delete employee\n",
      "5- Search employee\n",
      "6- Exit\n"
     ]
    },
    {
     "name": "stdin",
     "output_type": "stream",
     "text": [
      "Enter your choice 1\n"
     ]
    },
    {
     "name": "stdout",
     "output_type": "stream",
     "text": [
      "\n",
      "ID         Name                 Position                  Salary          Email                         \n",
      "----------------------------------------------------------------------------------------------------\n",
      "\n",
      "101        Yousef               software engineer         25000           yousef@gmail.com              \n",
      "\n",
      "102        Mohamed              graphic designer          11000           mohamed@gmail.com             \n",
      "\n",
      "103        Ahmed                media buyer               20000           ahmed@gmail.com               \n",
      "\n",
      "104        Khaled               videographer              17000           khaled@gmail.com              \n",
      "\n",
      "105        Mostafa              AI engineer               30000           mostafa@gmail.com             \n",
      "\n",
      "Employees Management System\n",
      "1- View all employees\n",
      "2- Add employee\n",
      "3- Update employee\n",
      "4- Delete employee\n",
      "5- Search employee\n",
      "6- Exit\n"
     ]
    },
    {
     "name": "stdin",
     "output_type": "stream",
     "text": [
      "Enter your choice 6\n"
     ]
    },
    {
     "name": "stdout",
     "output_type": "stream",
     "text": [
      "Good Bye\n"
     ]
    }
   ],
   "source": [
    "import csv\n",
    "\n",
    "class EmployeeManager:\n",
    "    def __init__(self):\n",
    "        self.__employees = {}\n",
    "        self.__FileName = 'employees.csv'\n",
    "        self.__LoadData()\n",
    "\n",
    "    def GetEmployee(self):\n",
    "        return self.__employees\n",
    "\n",
    "    def __LoadData(self):\n",
    "        try:\n",
    "            with open(self.__FileName, mode='r', newline='') as file:\n",
    "                reader = csv.DictReader(file)\n",
    "                for row in reader:\n",
    "                    self.__employees[row['Id']] = row\n",
    "        except FileNotFoundError:\n",
    "            pass\n",
    "\n",
    "    def SaveData(self):\n",
    "        with open(self.__FileName, mode='w', newline='') as file:\n",
    "            fieldName =['Id', 'Name', 'Position', 'Salary', 'Email']\n",
    "            writer = csv.DictWriter(file, fieldnames = fieldName)\n",
    "            writer.writeheader()\n",
    "            writer.writerows(self.__employees.values())\n",
    "        \n",
    "    def AddEmployee(self, empId, name, position, salary, email):\n",
    "        if empId in self.__employees:\n",
    "            print(f\"Employee with Id {empId} already exist\")\n",
    "            return\n",
    "\n",
    "        if not  salary.isdigit():\n",
    "            print(\"Invalid salary. Salary must be a numeric\")\n",
    "            return\n",
    "            \n",
    "        self.__employees[empId] = {\n",
    "            'Id' : empId,\n",
    "            'Name' : name,\n",
    "            'Position' : position,\n",
    "            'Salary' : salary,\n",
    "            'Email' : email\n",
    "        }\n",
    "        self.SaveData()\n",
    "\n",
    "    def UpdateEmployee(self, empId, name=None, position=None, salary=None, email=None):\n",
    "        if empId in self.__employees:\n",
    "            if name:\n",
    "                self.__employees[empId]['Name'] = name\n",
    "            if position:\n",
    "                self.__employees[empId]['Position'] = position\n",
    "            if salary:\n",
    "                if not  salary.isdigit():\n",
    "                    print(\"Invalid salary. Salary must be a numeric\")\n",
    "                    return\n",
    "                self.__employees[empId]['Salary'] = salary\n",
    "            if email:\n",
    "                self.__employees[empId]['Email'] = email\n",
    "            self.SaveData()\n",
    "\n",
    "    def DeleteEmployee(self, empId):\n",
    "        if empId in self.__employees:\n",
    "            del self.__employees[empId]\n",
    "            self.SaveData()\n",
    "\n",
    "    def SearchEmployee(self, empId):\n",
    "        if empId in self.__employees:\n",
    "            return self.__employees[empId]\n",
    "\n",
    "    def ListEmployee(self):\n",
    "        if not self.__employees:\n",
    "            print(\"No employees records found\")\n",
    "            return\n",
    "\n",
    "        print(\"\\n{:<10} {:<20} {:<25} {:<15} {:<30}\".format(\"ID\", \"Name\", \"Position\", \"Salary\", \"Email\"))\n",
    "        print(\"-\" * 100)\n",
    "        for emp in self.__employees.values():\n",
    "            print(\"\\n{:<10} {:<20} {:<25} {:<15} {:<30}\".format(emp[\"Id\"], emp[\"Name\"], emp[\"Position\"], emp[\"Salary\"], emp[\"Email\"]))\n",
    "\n",
    "    def ExitEmployee(self):\n",
    "        print(\"Good Bye\")\n",
    "        exit()\n",
    "\n",
    "manage = EmployeeManager()\n",
    "\n",
    "while True:\n",
    "    print(\"\\nEmployees Management System\")\n",
    "    print(\"1- View all employees\")\n",
    "    print(\"2- Add employee\")\n",
    "    print(\"3- Update employee\")\n",
    "    print(\"4- Delete employee\")\n",
    "    print(\"5- Search employee\")\n",
    "    print(\"6- Exit\")\n",
    "\n",
    "    choice = input(\"Enter your choice\")\n",
    "\n",
    "    if choice == '1':\n",
    "        manage.ListEmployee()\n",
    "\n",
    "    elif choice == '2':\n",
    "        empId = input(\"Enter employee ID\")\n",
    "        name = input(\"Enter employee name\")\n",
    "        position = input(\"Enter employee position\")\n",
    "        salary = input(\"Enter employee salary\")\n",
    "        email = input(\"Enter employee Email\")\n",
    "        manage.AddEmployee(empId, name, position, salary, email)\n",
    "        print(\"Employee added\")\n",
    "\n",
    "    elif choice == '3':\n",
    "        empId = input(\"Enter employee ID to update\")\n",
    "        name = input(\"Enter employee name to update\")\n",
    "        position = input(\"Enter employee position to update\")\n",
    "        salary = input(\"Enter employee salary to update\")\n",
    "        email = input(\"Enter employee Email to update\")\n",
    "        manage.UpdateEmployee(empId, name, position, salary, email)\n",
    "        print(\"Employee updated\")\n",
    "\n",
    "    elif choice == '4':\n",
    "        empId = input(\"Enter employee ID to delete\")\n",
    "        manage.DeleteEmployee(empId)\n",
    "        print(\"Employee deleted\")\n",
    "\n",
    "    elif choice == '5':\n",
    "        empId = input(\"Enter employee ID\")\n",
    "        employee = manage.SearchEmployee(empId)\n",
    "        if employee:\n",
    "            print(\"\\n{:<10} {:<20} {:<25} {:<15} {:<30}\".format(\"ID\", \"Name\", \"Position\", \"Salary\", \"Email\"))\n",
    "            print(\"-\" * 100)\n",
    "            print(\"\\n{:<10} {:<20} {:<25} {:<15} {:<30}\".format(employee[\"Id\"], employee[\"Name\"], employee[\"Position\"], employee[\"Salary\"], employee[\"Email\"]))\n",
    "        else:\n",
    "            print(\"Employee is not found\")\n",
    "\n",
    "    elif choice == '6':\n",
    "        manage.ExitEmployee()\n",
    "        break\n",
    "\n",
    "    else:\n",
    "        print(\"Invalid choice. Try again\")"
   ]
  }
 ],
 "metadata": {
  "kernelspec": {
   "display_name": "Python 3 (ipykernel)",
   "language": "python",
   "name": "python3"
  },
  "language_info": {
   "codemirror_mode": {
    "name": "ipython",
    "version": 3
   },
   "file_extension": ".py",
   "mimetype": "text/x-python",
   "name": "python",
   "nbconvert_exporter": "python",
   "pygments_lexer": "ipython3",
   "version": "3.13.5"
  }
 },
 "nbformat": 4,
 "nbformat_minor": 5
}

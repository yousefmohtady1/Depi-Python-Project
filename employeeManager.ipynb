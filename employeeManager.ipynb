{
 "cells": [
  {
   "cell_type": "code",
   "execution_count": 1,
   "id": "fe9e20a7-c2b5-4bb9-8cb0-099f0e198074",
   "metadata": {},
   "outputs": [
    {
     "name": "stdout",
     "output_type": "stream",
     "text": [
      "\n",
      "Welcome To Employees Management System\n",
      "----------------------------------------\n",
      "1- View all employees\n",
      "2- Add employee\n",
      "3- Update employee\n",
      "4- Delete employee\n",
      "5- Search employee\n",
      "6- Exit\n"
     ]
    },
    {
     "name": "stdin",
     "output_type": "stream",
     "text": [
      "Enter your choice:  1\n"
     ]
    },
    {
     "name": "stdout",
     "output_type": "stream",
     "text": [
      "\n",
      "ID         Name                 Position                  Salary          Email                         \n",
      "----------------------------------------------------------------------------------------------------\n",
      "\n",
      "101        Yousef               software engineer         25000           yousef@gmail.com              \n",
      "\n",
      "102        Mohamed              graphic designer          11000           mohamed@gmail.com             \n",
      "\n",
      "103        Ahmed                media buyer               20000           ahmed@gmail.com               \n",
      "\n",
      "104        Khaled               videographer              17000           khaled@gmail.com              \n",
      "\n",
      "105        Mostafa              AI engineer               30000           mostafa@gmail.com             \n",
      "\n",
      "106        Ayman                content creator           14000           ayman@gmail.com               \n",
      "\n",
      "107        Moatasem             content creator           13000           moatasem@gmail.com            \n",
      "\n",
      "108        Sara                 video editor              17000           sara@gmail.com                \n",
      "\n",
      "109        Mariam               marketer                  21000           mariam@gmail.com              \n",
      "\n",
      "110        Salma                photographer              14000           salma@gmail.com               \n",
      "----------------------------------------------------------------------------------------------------\n",
      "\n",
      "Welcome To Employees Management System\n",
      "----------------------------------------\n",
      "1- View all employees\n",
      "2- Add employee\n",
      "3- Update employee\n",
      "4- Delete employee\n",
      "5- Search employee\n",
      "6- Exit\n"
     ]
    },
    {
     "name": "stdin",
     "output_type": "stream",
     "text": [
      "Enter your choice:  2\n",
      "Enter employee ID:  fghj\n"
     ]
    },
    {
     "name": "stdout",
     "output_type": "stream",
     "text": [
      "Invalid input. Must be numeric\n"
     ]
    },
    {
     "name": "stdin",
     "output_type": "stream",
     "text": [
      "Enter employee ID:  111\n",
      "Enter employee name:  Zyad\n",
      "Enter employee position:  CFO\n",
      "Enter employee salary:  fgvbnm\n"
     ]
    },
    {
     "name": "stdout",
     "output_type": "stream",
     "text": [
      "Invalid input. Must be numeric\n"
     ]
    },
    {
     "name": "stdin",
     "output_type": "stream",
     "text": [
      "Enter employee salary:  120000\n",
      "Enter employee Email:  dfghj\n"
     ]
    },
    {
     "name": "stdout",
     "output_type": "stream",
     "text": [
      "Invalid Email. Try again\n"
     ]
    },
    {
     "name": "stdin",
     "output_type": "stream",
     "text": [
      "Enter employee Email:  zyad@gmail.com\n"
     ]
    },
    {
     "name": "stdout",
     "output_type": "stream",
     "text": [
      "Employee added successfully\n",
      "\n",
      "Welcome To Employees Management System\n",
      "----------------------------------------\n",
      "1- View all employees\n",
      "2- Add employee\n",
      "3- Update employee\n",
      "4- Delete employee\n",
      "5- Search employee\n",
      "6- Exit\n"
     ]
    },
    {
     "name": "stdin",
     "output_type": "stream",
     "text": [
      "Enter your choice:  1\n"
     ]
    },
    {
     "name": "stdout",
     "output_type": "stream",
     "text": [
      "\n",
      "ID         Name                 Position                  Salary          Email                         \n",
      "----------------------------------------------------------------------------------------------------\n",
      "\n",
      "101        Yousef               software engineer         25000           yousef@gmail.com              \n",
      "\n",
      "102        Mohamed              graphic designer          11000           mohamed@gmail.com             \n",
      "\n",
      "103        Ahmed                media buyer               20000           ahmed@gmail.com               \n",
      "\n",
      "104        Khaled               videographer              17000           khaled@gmail.com              \n",
      "\n",
      "105        Mostafa              AI engineer               30000           mostafa@gmail.com             \n",
      "\n",
      "106        Ayman                content creator           14000           ayman@gmail.com               \n",
      "\n",
      "107        Moatasem             content creator           13000           moatasem@gmail.com            \n",
      "\n",
      "108        Sara                 video editor              17000           sara@gmail.com                \n",
      "\n",
      "109        Mariam               marketer                  21000           mariam@gmail.com              \n",
      "\n",
      "110        Salma                photographer              14000           salma@gmail.com               \n",
      "\n",
      "111        Zyad                 CFO                       120000          zyad@gmail.com                \n",
      "----------------------------------------------------------------------------------------------------\n",
      "\n",
      "Welcome To Employees Management System\n",
      "----------------------------------------\n",
      "1- View all employees\n",
      "2- Add employee\n",
      "3- Update employee\n",
      "4- Delete employee\n",
      "5- Search employee\n",
      "6- Exit\n"
     ]
    },
    {
     "name": "stdin",
     "output_type": "stream",
     "text": [
      "Enter your choice:  3\n",
      "Enter employee ID to update:  bnm\n"
     ]
    },
    {
     "name": "stdout",
     "output_type": "stream",
     "text": [
      "Invalid input. Must be numeric\n"
     ]
    },
    {
     "name": "stdin",
     "output_type": "stream",
     "text": [
      "Enter employee ID to update:  111\n",
      "Enter employee name to update:  \n",
      "Enter employee position to update:  \n",
      "Enter employee salary to update:  nm\n"
     ]
    },
    {
     "name": "stdout",
     "output_type": "stream",
     "text": [
      "Invalid input. Must be numeric\n"
     ]
    },
    {
     "name": "stdin",
     "output_type": "stream",
     "text": [
      "Enter employee salary to update:  125000\n",
      "Enter employee Email to update:  bn\n"
     ]
    },
    {
     "name": "stdout",
     "output_type": "stream",
     "text": [
      "Invalid Email. Try again\n"
     ]
    },
    {
     "name": "stdin",
     "output_type": "stream",
     "text": [
      "Enter employee Email to update:  zyad@gmail.com\n"
     ]
    },
    {
     "name": "stdout",
     "output_type": "stream",
     "text": [
      "Employee updated successfully\n",
      "\n",
      "Welcome To Employees Management System\n",
      "----------------------------------------\n",
      "1- View all employees\n",
      "2- Add employee\n",
      "3- Update employee\n",
      "4- Delete employee\n",
      "5- Search employee\n",
      "6- Exit\n"
     ]
    },
    {
     "name": "stdin",
     "output_type": "stream",
     "text": [
      "Enter your choice:  5\n",
      "Enter employee ID to search:  bhj\n"
     ]
    },
    {
     "name": "stdout",
     "output_type": "stream",
     "text": [
      "Invalid input. Must be numeric\n"
     ]
    },
    {
     "name": "stdin",
     "output_type": "stream",
     "text": [
      "Enter employee ID to search:  111\n"
     ]
    },
    {
     "name": "stdout",
     "output_type": "stream",
     "text": [
      "\n",
      "ID         Name                 Position                  Salary          Email                         \n",
      "----------------------------------------------------------------------------------------------------\n",
      "\n",
      "111        Zyad                 CFO                       125000          zyad@gmail.com                \n",
      "----------------------------------------------------------------------------------------------------\n",
      "\n",
      "Welcome To Employees Management System\n",
      "----------------------------------------\n",
      "1- View all employees\n",
      "2- Add employee\n",
      "3- Update employee\n",
      "4- Delete employee\n",
      "5- Search employee\n",
      "6- Exit\n"
     ]
    },
    {
     "name": "stdin",
     "output_type": "stream",
     "text": [
      "Enter your choice:  4\n",
      "Enter employee ID to delete:  111\n"
     ]
    },
    {
     "name": "stdout",
     "output_type": "stream",
     "text": [
      "Employee deleted successfully\n",
      "\n",
      "Welcome To Employees Management System\n",
      "----------------------------------------\n",
      "1- View all employees\n",
      "2- Add employee\n",
      "3- Update employee\n",
      "4- Delete employee\n",
      "5- Search employee\n",
      "6- Exit\n"
     ]
    },
    {
     "name": "stdin",
     "output_type": "stream",
     "text": [
      "Enter your choice:  1\n"
     ]
    },
    {
     "name": "stdout",
     "output_type": "stream",
     "text": [
      "\n",
      "ID         Name                 Position                  Salary          Email                         \n",
      "----------------------------------------------------------------------------------------------------\n",
      "\n",
      "101        Yousef               software engineer         25000           yousef@gmail.com              \n",
      "\n",
      "102        Mohamed              graphic designer          11000           mohamed@gmail.com             \n",
      "\n",
      "103        Ahmed                media buyer               20000           ahmed@gmail.com               \n",
      "\n",
      "104        Khaled               videographer              17000           khaled@gmail.com              \n",
      "\n",
      "105        Mostafa              AI engineer               30000           mostafa@gmail.com             \n",
      "\n",
      "106        Ayman                content creator           14000           ayman@gmail.com               \n",
      "\n",
      "107        Moatasem             content creator           13000           moatasem@gmail.com            \n",
      "\n",
      "108        Sara                 video editor              17000           sara@gmail.com                \n",
      "\n",
      "109        Mariam               marketer                  21000           mariam@gmail.com              \n",
      "\n",
      "110        Salma                photographer              14000           salma@gmail.com               \n",
      "----------------------------------------------------------------------------------------------------\n",
      "\n",
      "Welcome To Employees Management System\n",
      "----------------------------------------\n",
      "1- View all employees\n",
      "2- Add employee\n",
      "3- Update employee\n",
      "4- Delete employee\n",
      "5- Search employee\n",
      "6- Exit\n"
     ]
    },
    {
     "name": "stdin",
     "output_type": "stream",
     "text": [
      "Enter your choice:  6\n"
     ]
    },
    {
     "name": "stdout",
     "output_type": "stream",
     "text": [
      "Good Bye\n"
     ]
    }
   ],
   "source": [
    "import csv\n",
    "import re\n",
    "\n",
    "class EmployeeManager:\n",
    "    def __init__(self):\n",
    "        #Dictionary to save data in memory\n",
    "        self.__employees = {}\n",
    "        #private file name to block edits from outside the class\n",
    "        self.__FileName = 'employees.csv'\n",
    "        self.__LoadData()\n",
    "\n",
    "    #Getter method if we need to read the dictionary from outside the class\n",
    "    def GetEmployee(self):\n",
    "        return self.__employees\n",
    "\n",
    "    #Load data from csv file when start program\n",
    "    def __LoadData(self):\n",
    "        try:\n",
    "            with open(self.__FileName, mode='r', newline='') as file:\n",
    "                reader = csv.DictReader(file)\n",
    "                for row in reader:\n",
    "                    self.__employees[row['Id']] = row\n",
    "        #skip the error if the file not found\n",
    "        except FileNotFoundError:\n",
    "            pass\n",
    "\n",
    "    #Save data in the csv file\n",
    "    def SaveData(self):\n",
    "        with open(self.__FileName, mode='w', newline='') as file:\n",
    "            fieldName =['Id', 'Name', 'Position', 'Salary', 'Email']\n",
    "            writer = csv.DictWriter(file, fieldnames = fieldName)\n",
    "            writer.writeheader()\n",
    "            writer.writerows(self.__employees.values())\n",
    "\n",
    "    #validation of ID uniquness\n",
    "    def AddEmployee(self, empId, name, position, salary, email):\n",
    "        if empId in self.__employees:\n",
    "            print(f\"Employee with Id {empId} already exist\")\n",
    "            return\n",
    "\n",
    "        #Add new employee data\n",
    "        self.__employees[empId] = {\n",
    "            'Id' : empId,\n",
    "            'Name' : name,\n",
    "            'Position' : position,\n",
    "            'Salary' : salary,\n",
    "            'Email' : email\n",
    "        }\n",
    "        self.SaveData()\n",
    "        print(\"Employee added successfully\")\n",
    "\n",
    "    #Update employee by ID\n",
    "    def UpdateEmployee(self, empId, name=None, position=None, salary=None, email=None):\n",
    "        if empId in self.__employees:\n",
    "            if name:\n",
    "                self.__employees[empId]['Name'] = name\n",
    "            if position:\n",
    "                self.__employees[empId]['Position'] = position\n",
    "            if salary:\n",
    "                self.__employees[empId]['Salary'] = salary\n",
    "            if email:\n",
    "                self.__employees[empId]['Email'] = email\n",
    "            self.SaveData()\n",
    "            print(\"Employee updated successfully\")\n",
    "        else:\n",
    "            print(\"The employee is not found\")\n",
    "\n",
    "    #Delete employee by ID\n",
    "    def DeleteEmployee(self, empId):\n",
    "        if empId in self.__employees:\n",
    "            del self.__employees[empId]\n",
    "            self.SaveData()\n",
    "\n",
    "    #Search employee by ID\n",
    "    def SearchEmployee(self, empId):\n",
    "        if empId in self.__employees:\n",
    "            return self.__employees[empId]\n",
    "\n",
    "    #View all employess in table\n",
    "    def ListEmployee(self):\n",
    "        if not self.__employees:\n",
    "            print(\"No employees records found\")\n",
    "            return\n",
    "\n",
    "        print(\"\\n{:<10} {:<20} {:<25} {:<15} {:<30}\".format(\"ID\", \"Name\", \"Position\", \"Salary\", \"Email\"))\n",
    "        print(\"-\" * 100)\n",
    "        for emp in self.__employees.values():\n",
    "            print(\"\\n{:<10} {:<20} {:<25} {:<15} {:<30}\".format(emp[\"Id\"], emp[\"Name\"], emp[\"Position\"], emp[\"Salary\"], emp[\"Email\"])) \n",
    "        print(\"-\" * 100)\n",
    "        \n",
    "    def ExitEmployee(self):\n",
    "        print(\"Good Bye\")\n",
    "        exit()\n",
    "        \n",
    "#------------------------------------------------------------------------\n",
    "\n",
    "#Validation for numeric values\n",
    "def ValidateNumeric(prompt):\n",
    "    while True:\n",
    "        value = input(prompt)\n",
    "        if not value.isdigit():\n",
    "            print(\"Invalid input. Must be numeric\")\n",
    "        else:\n",
    "            return value\n",
    "\n",
    "#Validation for email\n",
    "def ValidateEmail(prompt):\n",
    "    pattern = r'^[\\w\\.-]+@[\\w\\.-]+\\.\\w+$'\n",
    "    while True:\n",
    "        email = input(prompt)\n",
    "        if not re.match(pattern, email):\n",
    "            print(\"Invalid Email. Try again\")\n",
    "        else:\n",
    "            return email\n",
    "\n",
    "#------------------------------------------------------------------------\n",
    "\n",
    "manage = EmployeeManager()\n",
    "\n",
    "\n",
    "while True:\n",
    "    print(\"\\nWelcome To Employees Management System\")\n",
    "    print(\"-\" * 40)\n",
    "    print(\"1- View all employees\")\n",
    "    print(\"2- Add employee\")\n",
    "    print(\"3- Update employee\")\n",
    "    print(\"4- Delete employee\")\n",
    "    print(\"5- Search employee\")\n",
    "    print(\"6- Exit\")\n",
    "\n",
    "    choice = input(\"Enter your choice: \")\n",
    "    #call list (view) function\n",
    "    if choice == '1':\n",
    "        manage.ListEmployee()\n",
    "\n",
    "    #call add function\n",
    "    elif choice == '2':\n",
    "        empId = ValidateNumeric(\"Enter employee ID: \")      \n",
    "        name = input(\"Enter employee name: \")\n",
    "        position = input(\"Enter employee position: \")\n",
    "        salary = ValidateNumeric(\"Enter employee salary: \")\n",
    "        email = ValidateEmail(\"Enter employee Email: \")\n",
    "                \n",
    "        manage.AddEmployee(empId, name, position, salary, email)\n",
    "\n",
    "    #call update function\n",
    "    elif choice == '3':\n",
    "        empId = ValidateNumeric(\"Enter employee ID to update: \")\n",
    "        name = input(\"Enter employee name to update: \")\n",
    "        position = input(\"Enter employee position to update: \")\n",
    "        salary = ValidateNumeric(\"Enter employee salary to update: \")\n",
    "        email = ValidateEmail(\"Enter employee Email to update: \")\n",
    "                \n",
    "        manage.UpdateEmployee(empId, name, position, salary, email)\n",
    "        \n",
    "    #call delete function\n",
    "    elif choice == '4':\n",
    "        empId = ValidateNumeric(\"Enter employee ID to delete: \")\n",
    "        \n",
    "        manage.DeleteEmployee(empId)\n",
    "        print(\"Employee deleted successfully\")\n",
    "\n",
    "    #call search function\n",
    "    elif choice == '5':\n",
    "        empId = ValidateNumeric(\"Enter employee ID to search: \")\n",
    "\n",
    "        employee = manage.SearchEmployee(empId)\n",
    "        if employee:\n",
    "            print(\"\\n{:<10} {:<20} {:<25} {:<15} {:<30}\".format(\"ID\", \"Name\", \"Position\", \"Salary\", \"Email\"))\n",
    "            print(\"-\" * 100)\n",
    "            print(\"\\n{:<10} {:<20} {:<25} {:<15} {:<30}\".format(employee[\"Id\"], employee[\"Name\"], employee[\"Position\"], employee[\"Salary\"], employee[\"Email\"]))\n",
    "            print(\"-\" * 100)\n",
    "        else:\n",
    "            print(\"Employee is not found\")\n",
    "\n",
    "    #call exit function\n",
    "    elif choice == '6':\n",
    "        manage.ExitEmployee()\n",
    "        break\n",
    "\n",
    "    else:\n",
    "        print(\"Invalid choice. Try again\")"
   ]
  }
 ],
 "metadata": {
  "kernelspec": {
   "display_name": "Python 3 (ipykernel)",
   "language": "python",
   "name": "python3"
  },
  "language_info": {
   "codemirror_mode": {
    "name": "ipython",
    "version": 3
   },
   "file_extension": ".py",
   "mimetype": "text/x-python",
   "name": "python",
   "nbconvert_exporter": "python",
   "pygments_lexer": "ipython3",
   "version": "3.13.5"
  }
 },
 "nbformat": 4,
 "nbformat_minor": 5
}
